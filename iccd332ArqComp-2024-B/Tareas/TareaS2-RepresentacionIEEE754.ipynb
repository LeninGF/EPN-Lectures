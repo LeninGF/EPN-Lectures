{
 "cells": [
  {
   "cell_type": "markdown",
   "metadata": {
    "slideshow": {
     "slide_type": "slide"
    }
   },
   "source": [
    "<center>\n",
    "    <h1> Arquitectura de Computadores </h1>\n",
    "</center>\n",
    "\n",
    "Nombre: <Nombre Estudiante>\n",
    "\n",
    "Fecha: 2024-11-xx"
   ]
  },
  {
   "cell_type": "markdown",
   "metadata": {
    "slideshow": {
     "slide_type": "subslide"
    }
   },
   "source": [
    "## Objetivo\n",
    "\n",
    "1. Comprender la representación IEEE 754 en 32 bits de coma flotante\n",
    "2. Aprender a realizar una presentación de Jupyter Notebook\n",
    "\n",
    "## Instrucciones:\n",
    "\n",
    "1. Utilice este cuaderno de Jupyter en su entorno de `iccd332` creado dentro de WSL para crear una presentación sobre IEEE754. Realice unos slides detallando:\n",
    "    - El proceso para convertir un número decimal en base 10 a IEEE 754\n",
    "    - El proceso para convertir un número Hexadecimal en formato IEEE 754\n",
    "2. Conteste los ejercicios Propuestos en [S2-AritmeticaDigital.pdf](https://github.com/LeninGF/EPN-Lectures/blob/main/iccd332ArqComp-2024-B/S2-AritmeticaDigital.pdf)\n",
    "\n",
    "## Crear una Presentación de Jupyter\n",
    "1. Abrir el server en el cmd\n",
    "    jupyter-lab\n",
    "2. Abrir el notebook\n",
    "3. Configurar la celda como un slide o subslide seleccionando la opción adecuada desde el **inspector de propiedades** en la barra lateral derecha\n",
    "4. Configurar el estilo de la presentación: \n",
    "    - Settings/Settings Editor\n",
    "    - Seleccione Rise\n",
    "    - Seleccione el Reveal Theme (Recuerde que sólo funcionan los estilos claros)"
   ]
  },
  {
   "cell_type": "markdown",
   "metadata": {},
   "source": [
    "# Representación IEEE 754 Concepto"
   ]
  },
  {
   "cell_type": "markdown",
   "metadata": {},
   "source": [
    "## Conversión de un Número Decimal a IEEE 754"
   ]
  },
  {
   "cell_type": "markdown",
   "metadata": {},
   "source": [
    "## Conversión de un Número Hexadecimal a IEEE 754"
   ]
  },
  {
   "cell_type": "markdown",
   "metadata": {},
   "source": [
    "## Consulta\n",
    "1. ¿cuáles son el número más grande y más pequeño que puede representar la IEEE754 de 32 bits?\n",
    "\n",
    "Realice el cálculo usando una celda de código"
   ]
  },
  {
   "cell_type": "markdown",
   "metadata": {},
   "source": [
    "## Consulta \n",
    "2. ¿Cuál es la representación IEEE 754 de?\n",
    "    - $0^+$\n",
    "    - $0^-$\n",
    "    - $\\infty^+$\n",
    "    - $\\infty^-$\n",
    "    - NaN\n",
    "\n",
    "Realice un slide para cada item"
   ]
  },
  {
   "cell_type": "markdown",
   "metadata": {},
   "source": [
    "# Ejercicios\n",
    "Resuelva cada item en un slide nuevo. Puede usar el cuaderno para hacer cálculos y usar `bin`, `oct` o `hex` para hacer conversiones\n",
    "1. Convierta -0.5 en IEEE 754 de 32 bits\n",
    "2. Convierta +234.75 en IEEE 754 de 32 bits\n",
    "3. Convierta 402DF85416 de IEEE 754 32 bits a decimal\n",
    "4. En clase se estudió el algoritmo utilizado por los desarrolladores de Quake para obtener la raíz cuadrada inversa. En el vídeo se presenta el número hexadecimal 0x5F3759DF, el cual ocupa 32 bits. Suponga que el número es la representación en coma flotante de un número decimal $X10$, ¿Cuál es el número?"
   ]
  },
  {
   "cell_type": "markdown",
   "metadata": {},
   "source": [
    "# Programa de Conversión\n",
    "\n",
    "¿Qué realiza el siguiente código? Define un diccionario con las claves `ieee754_bin` y `ieee754_hex` para devolver ambas representaciones"
   ]
  },
  {
   "cell_type": "code",
   "execution_count": null,
   "metadata": {},
   "outputs": [
    {
     "name": "stdout",
     "output_type": "stream",
     "text": [
      "La representación IEEE 754 en binario de 13.375 es: 01000001010101100000000000000000\n",
      "La representación IEEE 754 en hexadecimal de 13.375 es: 41560000\n"
     ]
    }
   ],
   "source": [
    "import struct\n",
    "\n",
    "def float_to_ieee754(numero_decimal):\n",
    "    # Empaqueta el número en formato IEEE 754 de 32 bits\n",
    "    packed = struct.pack('!f', numero_decimal)\n",
    "    # Convierte el número empaquetado a una representación binaria\n",
    "    binary = ''.join(f'{byte:08b}' for byte in packed)\n",
    "    hex_representation = packed.hex()\n",
    "    pass\n",
    "\n",
    "# Ejemplo de uso\n",
    "numero = 13.375\n",
    "representacion_ieee754 = float_to_ieee754(numero)\n",
    "\n",
    "print(f\"La representación IEEE 754 en binario de {numero} es: {representacion_ieee754['ieee754_bin']}\")\n",
    "print(f\"La representación IEEE 754 en hexadecimal de {numero} es: {representacion_ieee754['ieee754_hex']}\")\n"
   ]
  }
 ],
 "metadata": {
  "kernelspec": {
   "display_name": "tfwin",
   "language": "python",
   "name": "python3"
  },
  "language_info": {
   "codemirror_mode": {
    "name": "ipython",
    "version": 3
   },
   "file_extension": ".py",
   "mimetype": "text/x-python",
   "name": "python",
   "nbconvert_exporter": "python",
   "pygments_lexer": "ipython3",
   "version": "3.9.20"
  }
 },
 "nbformat": 4,
 "nbformat_minor": 2
}
