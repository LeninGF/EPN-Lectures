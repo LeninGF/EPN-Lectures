{
 "cells": [
  {
   "cell_type": "markdown",
   "id": "7ee0ab64-395a-43a7-9af5-f281901a15c6",
   "metadata": {},
   "source": [
    "# Tarea Aritmética Entera del Computador y Representación Numérica\n",
    "\n",
    "## Asignatura ICCD332 Arquitectura de Computadores\n",
    "\n",
    "Nombre: \n",
    "\n",
    "Fecha: 2024-05-14\n",
    "\n",
    "Resolver las preguntas de repaso y ejercicios siguientes propuestos del libro de *Computer Organization and Architecture* 7ma edición de William Stallings, página 363 (pdf) o 341 (libro):\n",
    "\n",
    "* **Preguntas de Repaso:** 9.1, 9.2, 9.3, 9.4, 9.8, 9.9\n",
    "* **Problemas:** 9.1, 9.2, 9.7, 9.8, 9.10, 9.11, 9.23, 9.24, 9.28\n",
    "* **Condiciones de la entrega:** Puede subir el archivo con el desarrollo y respuestas de extensión ***.ipynb**. Adicional, si desea, puede hacer un fork de este cuaderno en GitHub y crear una branch con su nombre y subir la resolución del mismo (**pull request**). También puede generar el archivo pdf correspondiente a su cuaderno de jupyter realizando la operación de exportación indicada en la figura de la siguiente celda. Para disponer de la evidencia es necesario subir el ***.ipynb** como mínimo. La resolución de los ejercicios teóricos los puede hacer con ayuda del computador o si desea subir su procedimiento manual puede adjuntar la imagen respectiva del procedimiento. Para esto deberá subir también la carpeta con las imágenes. Las imágenes en MarkDown se insertan usando código html. Considere la siguiente celda de ejemplo. El código que se puede escribir en una celda tipo markdown es el siguiente:\n",
    "\n",
    "`<img src=\"ruta/al/archivo.png\" width=\"300\" height=\"200\">`\n",
    "\n",
    "Transcriba el enunciado de los problemas para realizar la revisión del problema/pregunta propuesta\n"
   ]
  },
  {
   "cell_type": "markdown",
   "id": "d7f81cd0-a514-450f-84af-aa36681a71aa",
   "metadata": {},
   "source": [
    "<img src=\"../images/comoExportarJupyter-Pdf.png\" width=\"1024\" height=\"768\">"
   ]
  },
  {
   "cell_type": "markdown",
   "id": "c4f5713e-9daf-47ea-8cef-ea03da167e26",
   "metadata": {},
   "source": [
    "## Pasos para editar el cuaderno de jupyter\n",
    "\n",
    "2. Desde un terminal con entorno de **anaconda/mamba** active el entorno de trabajo iccd332: `mamba activate iccd332`\n",
    "1. Puede clonar o hacer un [fork](https://desarrolloweb.com/articulos/fork-git) del repositorio. Puede trabajar directamente desde la carpeta clonada o desde su entorno una vez realizado el proceso de **fork** (puede revisar el enlace para más información)\n",
    "3. Desde el terminal arrancamos jupyter-lab con el comando: `jupyter-lab`. Alternativamente, si usa Visual Studio Code y están instalados los complementos necesarios para ejecutar cuadernos de jupyter puede invocar desde la ubicación del terminal con `.code`. En cualquiera de los casos edite el archivo presente con sus respuestas.\n",
    "4. El comando genera un token para acceder desde un buscador de internet. Localice el archivo *TareaS1S22024-05-05.ipynb* y resuelva los ejercicios y problemas propuestos. Recuerde que si requiere escribir matemáticamente puede usar la sintaxix de latex. Puede usar de referencia el [Undergrad Math Latex](cheatsheet). Para escribir en **MarkDown** Puede consultar: [referencia](https://medium.com/analytics-vidhya/the-ultimate-markdown-guide-for-jupyter-notebook-d5e5abf728fd)\n",
    "5. Guarde los cambios usando el menu File/Save Notebook y también puede exportar a PDF o Html usando **Save and Export Notebook As**\n",
    "\n"
   ]
  },
  {
   "cell_type": "markdown",
   "id": "944e5904",
   "metadata": {},
   "source": [
    "## Ejemplo de Resolución de ejercicios\n",
    "\n",
    "Puede considerar el siguiente procedimiento para ayudarse de Jupyter para hacer cálculos y obtener resultados. Lo importante es repasar el procedimiento.\n",
    "\n",
    "**Problema:** Considere que se desea obtener el complemento a 2 del `0101` en 4 bits.\n",
    "\n",
    "El complemento a 2 se obtiene de hacer la inversión del número dado y sumar uno. Este procedimiento se puede realizar de la siguiente manera\n",
    "\n",
    "*Revise ayuda sobre el comando* `int` con `help(int)`"
   ]
  },
  {
   "cell_type": "code",
   "execution_count": 1,
   "id": "9cd29898",
   "metadata": {},
   "outputs": [
    {
     "name": "stdout",
     "output_type": "stream",
     "text": [
      "Inversión de 0101 es 1010\n",
      "Complemento a 2 de 0101 es 1011\n"
     ]
    }
   ],
   "source": [
    "x  = \"0101\" # número binario de 4 bits\n",
    "# la inversion consiste en restar de tantos unos como bits tenga el número\n",
    "x_inv = int(\"1111\", 2) - int(x, 2) \n",
    "x_inv_bin = format(x_inv, '04b')  # Convertir de nuevo a binario de 4 bits\n",
    "print(f\"Inversión de {x} es {x_inv_bin}\")\n",
    "# para sumar uno, convertimos a entero, sumamos y convertimos de nuevo a binario\n",
    "x_comp2 = int(x_inv_bin, 2) + 1\n",
    "x_comp2_bin = format(x_comp2, '04b')  # Convertir de nuevo a binario de 4 bits\n",
    "print(f\"Complemento a 2 de {x} es {x_comp2_bin}\")"
   ]
  },
  {
   "cell_type": "markdown",
   "id": "7885dcaa",
   "metadata": {},
   "source": [
    "Este procedimiento puede extenderse a otros sistemas de numeración. Por ejemplo, en base 16, usando 8 bits "
   ]
  },
  {
   "cell_type": "code",
   "execution_count": 3,
   "id": "68551f83",
   "metadata": {},
   "outputs": [
    {
     "name": "stdout",
     "output_type": "stream",
     "text": [
      "Inversión de 05 es FA\n",
      "Complemento a 2 de 05 es FB\n"
     ]
    }
   ],
   "source": [
    "x = \"05\" # número en base 16 de 8 bits\n",
    "# la inversion consiste en restar de tantos unos como bits tenga el número  \n",
    "x_inv = int(\"FF\", 16) - int(x, 16) \n",
    "x_inv_hex = format(x_inv, '02X')  # Convertir de nuevo a hexadecimal de 8 bits\n",
    "print(f\"Inversión de {x} es {x_inv_hex}\")\n",
    "# para sumar uno, convertimos a entero, sumamos y convertimos de nuevo a hexadecimal\n",
    "x_comp2 = int(x_inv_hex, 16) + 1\n",
    "x_comp2_hex = format(x_comp2, '02X')  # Convertir de nuevo a hexadecimal de 8 bits\n",
    "print(f\"Complemento a 2 de {x} es {x_comp2_hex}\")"
   ]
  }
 ],
 "metadata": {
  "kernelspec": {
   "display_name": "tfmlenv",
   "language": "python",
   "name": "python3"
  },
  "language_info": {
   "codemirror_mode": {
    "name": "ipython",
    "version": 3
   },
   "file_extension": ".py",
   "mimetype": "text/x-python",
   "name": "python",
   "nbconvert_exporter": "python",
   "pygments_lexer": "ipython3",
   "version": "3.9.23"
  }
 },
 "nbformat": 4,
 "nbformat_minor": 5
}
