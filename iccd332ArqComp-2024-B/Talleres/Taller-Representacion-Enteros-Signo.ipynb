{
 "cells": [
  {
   "cell_type": "markdown",
   "metadata": {},
   "source": [
    "<div align=\"center\">\n",
    "<h1>Arquitectura de Computadores</h1>\n",
    "<h2>Representación de Números Enteros con Signo</h2>\n",
    "</div>\n",
    "\n",
    "\n",
    "**Name:** Alan Turing\n",
    "\n",
    "**Fecha:** dd-mm-aaaa\n",
    "\n",
    "**Instrucciones**\n",
    "1. Utilice este cuaderno de Jupyter para completar la tabla con los valores obtenidos en clase para representar números enteros decimales con signo en:\n",
    "\n",
    "- Complemento a 1 (base disminuída)\n",
    "    - Complemento a 1 en binario: $Comp^1_{bin}$\n",
    "    - Complemento a 1 en hexadecimal: $Comp^1_{HEX}$\n",
    "- Complemento a 2 (base):\n",
    "    - $Comp^2_{bin}$\n",
    "    - $Comp^2_{HEX}$\n",
    "- Signo Magnitud:\n",
    "    - $SIGNO-MAG_{bin}$\n",
    "    - $SIGNO-MAG_{HEX}$\n",
    "\n",
    "2. Guarde el cuaderno de Jupyter y suba el archivo *.ipynb\n",
    "3. Exporte el cuaderno de Jupyter a PDF y suba también el PDF\n",
    "\n",
    "\n",
    "Puede utilizar el resto del cuaderno para realizar cálculos de apoyo si requiere.\n",
    "\n",
    "\n"
   ]
  },
  {
   "cell_type": "markdown",
   "metadata": {},
   "source": [
    "Represente los siguientes números enteros con signo en sus equivalentes en complemento a 1, complemento a 2 y signo magnitud. Considere una arquitectura de **8 bits**\n",
    "\n",
    "| DEC      |$Comp^1_{bin}$| $Comp^1_{HEX}$ | $Comp^2_{bin}$ | $Comp^2_{HEX}$ | $SIGNO-MAG_{bin}$ | $SIGNO-MAG_{bin}$ |\n",
    "|----------|--------------|----------------|----------------|----------------|-------------------|-------------------|\n",
    "| +9       |              |                |                |                |                   |                   |\n",
    "| -9       |              |                |                |                |                   |                   |\n",
    "| +52      |              |                |                |                |                   |                   |\n",
    "| -52      |              |                |                |                |                   |                   |\n",
    "| +183     |              |                |                |                |                   |                   |\n",
    "| -183     |              |                |                |                |                   |                   |\n",
    "| +101     |              |                |                |                |                   |                   |\n",
    "| -101     |              |                |                |                |                   |                   |\n",
    "| +200     |              |                |                |                |                   |                   |\n",
    "| -200     |              |                |                |                |                   |                   |\n",
    "| +128     |              |                |                |                |                   |                   |\n",
    "| -128     |              |                |                |                |                   |                   |\n"
   ]
  },
  {
   "cell_type": "markdown",
   "metadata": {},
   "source": [
    "## Exportar cuaderno de Jupyter a PDF\n",
    "1. Usando Jupyter-lab: \n",
    "    - Abrir el cuaderno de jupyter arrancanado el servidor desde wsl con el comando `jupyter-lab`. Recuerde arrancar el servidor desde una ubicación en la que disponga del archivo\n",
    "    - En el meno de Archivo/File localice la opción *Export Notebook As* y luego elige PDF\n",
    "2. Usando VsCode:\n",
    "    - Ubique en la barra superior junto a la palabra *Outline* unos tres puntos de opcines y de clic\n",
    "    - Seleccione Export\n",
    "## Configuración\n",
    "Para que la exportación a PDF funcione con éxito es necesario que esté instalado en el WSL Latex  y Pandoc. Los comandos serían\n",
    "\n",
    "    sudo apt-get install texlive-xetex texlive-fonts-recommended texlive-generic-recommended\n",
    "\n",
    "    sudo apt install pandoc\n",
    "\n",
    "Puede ser también necesario instalar *nbconvert*. Para esto en el entorno iccd332 instale:\n",
    "\n",
    "    mamba install nbconvert"
   ]
  }
 ],
 "metadata": {
  "kernelspec": {
   "display_name": "tfwin",
   "language": "python",
   "name": "python3"
  },
  "language_info": {
   "name": "python",
   "version": "3.9.20"
  }
 },
 "nbformat": 4,
 "nbformat_minor": 2
}
