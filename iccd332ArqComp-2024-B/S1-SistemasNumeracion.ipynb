{
 "cells": [
  {
   "cell_type": "markdown",
   "id": "c3fc2f81-f4a1-4e05-be06-9ee2b0ee5eab",
   "metadata": {
    "editable": true,
    "slideshow": {
     "slide_type": "slide"
    },
    "tags": []
   },
   "source": [
    "# ICCD332 - Arquitectura de Computadores\n",
    "Fecha: 2024-04-24\n",
    "\n",
    "Profesor: Hubber Fransworth\n",
    "\n",
    "Horario: MA 9-11 y ME 9-11"
   ]
  },
  {
   "cell_type": "markdown",
   "id": "09789f16",
   "metadata": {
    "editable": true,
    "slideshow": {
     "slide_type": "slide"
    },
    "tags": []
   },
   "source": [
    "## Sistemas de Numeración\n",
    "* Un número se puede representar como una cadena de dígitos $a_na_{n-1} \\dots a_2a_1a_0 \\cdot a_{-1}a_{-2}\\dots a_{m}$\n",
    "* La posición relativa $i$ del dígito posee un **peso** $r^i$, donde $r$ es la **base** del sistema de numeración\n",
    "* El alfabeto de dígitos posibles en un sistema de base $r$ es $0 \\leq a_i\\leq r-1$\n",
    "* Por tanto un número $N$ en la base $r$, notado como $N_r$ se representa como:\n",
    "\n",
    "$N_r = \\sum\\limits_{i} a_i\\times r^i$"
   ]
  },
  {
   "cell_type": "markdown",
   "id": "26b10704",
   "metadata": {
    "editable": true,
    "slideshow": {
     "slide_type": "subslide"
    },
    "tags": []
   },
   "source": [
    "## Tipos de Sistemas de Numeración\n",
    "\n",
    "| Denominación | base |\n",
    "|---    |---|\n",
    "|Decimal | 10 |\n",
    "|Octal | 8 |\n",
    "|Binario | 2 |\n",
    "|Hexadecimal| 16 |"
   ]
  },
  {
   "cell_type": "markdown",
   "id": "64398fce",
   "metadata": {
    "editable": true,
    "slideshow": {
     "slide_type": "subslide"
    },
    "tags": []
   },
   "source": [
    "## Ejercicio\n",
    "\n",
    "* Escriba un número en base 7\n",
    "* Escriba un número en base 4\n",
    "* ¿Qué valor sería el correspondiente en decimal?"
   ]
  },
  {
   "cell_type": "code",
   "execution_count": 1,
   "id": "edbb90e4-e022-4db1-a987-bcbc7c06df6d",
   "metadata": {
    "editable": true,
    "slideshow": {
     "slide_type": "subslide"
    },
    "tags": []
   },
   "outputs": [
    {
     "name": "stdout",
     "output_type": "stream",
     "text": [
      "314.2 en base 7 equivale a:\n",
      "158.28571428571428\n",
      "4021.2 en base 5 equivale a\n",
      "511.4\n"
     ]
    }
   ],
   "source": [
    "# 314.2 en base 7\n",
    "print(\"314.2 en base 7 equivale a:\")\n",
    "print(3*7**2+1*7**1+4*7**0+2*7**(-1))\n",
    "# 4021.2 en base 5\n",
    "print(\"4021.2 en base 5 equivale a\")\n",
    "print(4*5**3+2*5**1+1*5**0+2*5**(-1))\n"
   ]
  },
  {
   "cell_type": "markdown",
   "id": "34634cfd",
   "metadata": {
    "editable": true,
    "slideshow": {
     "slide_type": "subslide"
    },
    "tags": []
   },
   "source": [
    "## Sistema de Numeración Decimal\n",
    "\n",
    "* La base del sistema es $r=10$\n",
    "* Los dígitos son $0\\leq a_i\\leq 9$ y $a_i \\in \\mathbb{Z}^+$\n",
    "\n",
    "$123.45 = 1\\times 10^2+2\\times 10^1+3\\times 10^0+4\\times 10^{-1} + 5\\times 10^{-1}$"
   ]
  },
  {
   "cell_type": "markdown",
   "id": "039f1d54",
   "metadata": {
    "editable": true,
    "slideshow": {
     "slide_type": "subslide"
    },
    "tags": []
   },
   "source": [
    "## Sistema de Numeración Binario\n",
    "\n",
    "* La base del sistema es $r=2$\n",
    "* Los dígitos son $0\\leq a_i\\leq 1$ y $a_i \\in \\mathbb{Z}^+$\n",
    "* Los dígitos 1 y 0 en binario tienen el mismo valor en notación decimal i.e.\n",
    "\n",
    "$0_2 = 0_{10}$\n",
    "\n",
    "$1_2 = 1_{10}$\n",
    "\n",
    "Por tanto:\n",
    "\n",
    "$1101.01_2 = 1\\times 2^3+1\\times 2^2+0\\times 2^1+1\\times 2^0+0\\times 2^{-1}+1\\times 2^{-2}$"
   ]
  },
  {
   "cell_type": "markdown",
   "id": "64292ac0",
   "metadata": {
    "editable": true,
    "slideshow": {
     "slide_type": "slide"
    },
    "tags": []
   },
   "source": [
    "## Conversión Sistema de base $r$ a Decimal $N_r \\rightarrow X_{10}$\n",
    "\n",
    "Sea $N_r \\rightarrow X_{10}$ la conversión de un número en base $r$ a su equivalente Decimal. En este caso, se aplica:\n",
    "\n",
    "$X_{10} = \\sum\\limits_{i} a_i\\times r^i$\n",
    "\n",
    "### Ejercicios:\n",
    "\n",
    "* $(4021.2)_5$\n",
    "* $(127.4)_8$\n",
    "* $(110101)_2$\n",
    "* $(B65F)_{16}$"
   ]
  },
  {
   "cell_type": "code",
   "execution_count": 1,
   "id": "9a6240f6-ce37-4c8c-b32a-8a3fb1386b7c",
   "metadata": {},
   "outputs": [
    {
     "data": {
      "text/plain": [
       "511.4"
      ]
     },
     "execution_count": 1,
     "metadata": {},
     "output_type": "execute_result"
    }
   ],
   "source": [
    "# 4021.2 en base 5 a base 10\n",
    "4*5**3+2*5**1+1*5**0+2*5**-1"
   ]
  },
  {
   "cell_type": "markdown",
   "id": "6d41c1a2",
   "metadata": {
    "editable": true,
    "slideshow": {
     "slide_type": "subslide"
    },
    "tags": []
   },
   "source": [
    "## Conversión Decimal a Binario $N_{10}\\rightarrow X_{2}$\n",
    "\n",
    "Dado un numero decimal que dispone tanto de parte entera como fraccionaria, se convierten por separado la **parte entera** y la **parte fraccionaria**\n",
    "\n",
    "### Parte Entera\n",
    "\n",
    "* Sea $X_2 = b_{m-1}b_{m-2}\\dots b_2b_1b_0\\cdot b_{-1}b_{-2}\\dots$ el número binario buscado\n",
    "* Sea $N$ el número decimal dado\n",
    "* La parte entera es:$\\lfloor b_{m-1}b_{m-2}\\dots b_2b_1b_0 \\rfloor = b_{m-1}\\times 2^{m-1}+ b_{m-2}\\times 2^{m-2}+ \\dots b_2 \\times 2^{2}+ b_1 \\times 2^{1}+ b_0 \\times 2^{0}$\n",
    "* Dividir $N$ por la base 2 obtiene un cociente $N_1$ y un residuo $R_0$ i.e. $N=2\\times N_1+R_0$\n",
    "* Repita el proceso anterior para cada cociente y guarde los residuos hasta alcanzar un cociente de 0\n",
    "* El conjunto de residuos en orden inverso es el número buscado\n",
    "\n",
    "### Demostración\n",
    "\n",
    "$N = 2\\times N_1 + R_0$\n",
    "\n",
    "$N_1 = 2\\times N_2 + R_1$\n",
    "\n",
    "$N_2 = 2\\times N_3 + R_3$\n",
    "\n",
    "$\\dots$\n",
    "\n",
    "$N_{m-1} = 2\\times N_{m} + R_{m-1}$\n",
    "\n",
    "Entonces $N$ es:\n",
    "\n",
    "$N = 2\\times (2\\times (\\dots+R_2) + R_1$) + R_0$\n",
    "\n",
    "$N = 2^mN_m+2^{m-1}R_{m-1}+\\dots+2^2R_2 + 2^1R_1 + R_0$\n",
    "\n",
    "Pero $N_m=0$ y $R_{m-1}=1$"
   ]
  },
  {
   "cell_type": "markdown",
   "id": "69e5bb83",
   "metadata": {
    "editable": true,
    "slideshow": {
     "slide_type": "subslide"
    },
    "tags": []
   },
   "source": [
    "### Ejercicio\n",
    "\n",
    "1. Convertir 41 a binario\n",
    "2. Convertir 153 a octal\n"
   ]
  },
  {
   "cell_type": "code",
   "execution_count": 10,
   "id": "b28667dc-145b-446f-904c-af125d0c2d8e",
   "metadata": {},
   "outputs": [
    {
     "name": "stdout",
     "output_type": "stream",
     "text": [
      "20 1\n",
      "10 0\n",
      "5 0\n",
      "2 1\n",
      "1 0\n",
      "0 1\n"
     ]
    },
    {
     "data": {
      "text/plain": [
       "True"
      ]
     },
     "execution_count": 10,
     "metadata": {},
     "output_type": "execute_result"
    }
   ],
   "source": [
    "# 41 a binario\n",
    "print(41//2, 41%2)\n",
    "print(20//2, 20%2)\n",
    "print(10//2, 10%2)\n",
    "print(5//2, 5%2)\n",
    "print(2//2, 2%2)\n",
    "print(1//2, 1%2)\n",
    "resp = '0b101001'\n",
    "resp==bin(41)"
   ]
  },
  {
   "cell_type": "markdown",
   "id": "1c182b24",
   "metadata": {
    "editable": true,
    "slideshow": {
     "slide_type": "subslide"
    },
    "tags": []
   },
   "source": [
    "### Parte Fraccionaria\n",
    "\n",
    "Sea $F = 0\\cdot b_{-1}b_{-2}\\dots$ la parte fraccionaria buscada en binario. Entonces\n",
    "\n",
    "$0\\cdot b_{-1}b_{-2}\\dots = b_{-1}\\times 2^{-1}+b_{-2}\\times 2^{-2}+\\dots$\n",
    "\n",
    "Se observa que la parte fraccionaria puede obtener factor común\n",
    "\n",
    "$2^{-1}\\times (b_{-1} +2^{-1}\\times (b_{-2}+2^{-1}\\times(b_{-3}+\\dots) \\dots))$\n",
    "\n",
    "Si se multiplica por la base 2, entonces\n",
    "\n",
    "$2 \\times F = b_{-1} +2^{-1}\\times (b_{-2}+2^{-1}\\times(b_{-3}+\\dots) \\dots)$\n",
    "\n",
    "Que se puede escribir como\n",
    "\n",
    "$2 \\times F = b_{-1} +F_1$\n",
    "\n",
    "con $F_1 = 2^{-1}\\times (b_{-2}+2^{-1}\\times(b_{-3}+\\dots) \\dots)$\n",
    "\n",
    "Entonces:\n",
    "\n",
    "1. Multiplique la parte fraccionaria por la base y tome la parte entera\n",
    "2. Repita 1 con la nueva parte fraccionaria hasta obtener 0 o la precisión deseada\n",
    "3. El valor binario deseado es el conjunto de partes enteras obtenidos\n"
   ]
  },
  {
   "cell_type": "markdown",
   "id": "43c55f28",
   "metadata": {
    "editable": true,
    "slideshow": {
     "slide_type": "subslide"
    },
    "tags": []
   },
   "source": [
    "### Ejercicio\n",
    "\n",
    "1. $(0.6875)_{10} \\rightarrow X_2$\n",
    "1. $(0.513)_{10} \\rightarrow X_8$"
   ]
  },
  {
   "cell_type": "code",
   "execution_count": 16,
   "id": "b7839e7d-9a14-4f52-8a2b-a039a5704544",
   "metadata": {},
   "outputs": [
    {
     "data": {
      "text/plain": [
       "((4, 4.104), (0, 0.832), (6, 6.656))"
      ]
     },
     "execution_count": 16,
     "metadata": {},
     "output_type": "execute_result"
    }
   ],
   "source": [
    "v1 = int(0.513*8), 0.513*8\n",
    "v2 = int(0.104*8), 0.104*8\n",
    "v3= int(0.832*8), 0.832*8\n",
    "v1,v2,v3"
   ]
  },
  {
   "cell_type": "markdown",
   "id": "8d3fbfd0",
   "metadata": {
    "editable": true,
    "slideshow": {
     "slide_type": "slide"
    },
    "tags": []
   },
   "source": [
    "## Sistema Hexadecimal\n",
    "\n",
    "A continuación la tabla de valores de dígitos hexadecimales"
   ]
  },
  {
   "cell_type": "code",
   "execution_count": 17,
   "id": "44fc0530",
   "metadata": {
    "editable": true,
    "slideshow": {
     "slide_type": "subslide"
    },
    "tags": []
   },
   "outputs": [
    {
     "name": "stdout",
     "output_type": "stream",
     "text": [
      "decimal \tbinario \toctal \thexadecimal\n",
      "0 \t\t0b0 \t\t0o0\t\t0x0\n",
      "1 \t\t0b1 \t\t0o1\t\t0x1\n",
      "2 \t\t0b10 \t\t0o2\t\t0x2\n",
      "3 \t\t0b11 \t\t0o3\t\t0x3\n",
      "4 \t\t0b100 \t\t0o4\t\t0x4\n",
      "5 \t\t0b101 \t\t0o5\t\t0x5\n",
      "6 \t\t0b110 \t\t0o6\t\t0x6\n",
      "7 \t\t0b111 \t\t0o7\t\t0x7\n",
      "8 \t\t0b1000 \t\t0o10\t\t0x8\n",
      "9 \t\t0b1001 \t\t0o11\t\t0x9\n",
      "10 \t\t0b1010 \t\t0o12\t\t0xa\n",
      "11 \t\t0b1011 \t\t0o13\t\t0xb\n",
      "12 \t\t0b1100 \t\t0o14\t\t0xc\n",
      "13 \t\t0b1101 \t\t0o15\t\t0xd\n",
      "14 \t\t0b1110 \t\t0o16\t\t0xe\n",
      "15 \t\t0b1111 \t\t0o17\t\t0xf\n"
     ]
    }
   ],
   "source": [
    "print(f\"decimal \\tbinario \\toctal \\thexadecimal\")\n",
    "for i in range(16):\n",
    "    print(f\"{i} \\t\\t{bin(i)} \\t\\t{oct(i)}\\t\\t{hex(i)}\")"
   ]
  },
  {
   "cell_type": "markdown",
   "id": "b3e64bc6",
   "metadata": {
    "editable": true,
    "slideshow": {
     "slide_type": "slide"
    },
    "tags": []
   },
   "source": [
    "## Conversión Binario - Octal - Hexadecimal\n",
    "\n",
    "Para esta conversión es importante recordar:\n",
    "\n",
    "* $2^3 = 8$\n",
    "* $2^4 = 16$\n",
    "\n",
    "En consecuencia para convertir un número binario a octal o decimal, notado esto por $N_2 \\rightarrow X_8$ y $N_2 \\rightarrow X_{16}$, respectivamente, se ha de localizar el punto decimal y apartir de el se forman grupos de 3 (octal) o grupos de 4 (hexadecimal).\n",
    "\n",
    "Sea $N_2 = 10101001.10111$\n",
    "\n",
    "### Conversión a Octal\n",
    "\n",
    "1. Se hacen grupos de 3 digitos a partir de la coma en ambas direcciones y se completa el dígito faltante con 0\n",
    "\n",
    "$010\\,101\\, 001.101\\,110$\n",
    "\n",
    "2. A partir de la tabla de equivalencias realice la sustituciones de valores\n",
    "\n",
    "$2\\,5\\, 1.5\\,6$\n",
    "\n",
    "Entonces: $N_2 = 10101001.10111_2 \\rightarrow 251.56_8$\n",
    "\n"
   ]
  },
  {
   "cell_type": "markdown",
   "id": "45a8ccfb-bcea-4c53-ac55-b7ee26d2f904",
   "metadata": {
    "editable": true,
    "slideshow": {
     "slide_type": ""
    },
    "tags": []
   },
   "source": [
    "### Conversión a Hexadecimal\n",
    "\n",
    "1. Se hacen grupos de 4 digitos a partir de la coma en ambas direcciones y se completa el dígito faltante con 0\n",
    "\n",
    "$1010\\,1001.1011\\,1000$\n",
    "\n",
    "2. A partir de la tabla de equivalencias realice la sustituciones de valores\n",
    "\n",
    "$A9.B8$\n",
    "\n",
    "Entonces: $N_2 = 10101001.10111_2 \\rightarrow A9.B8_{16}$\n"
   ]
  },
  {
   "cell_type": "markdown",
   "id": "deab6767",
   "metadata": {},
   "source": [
    "## Órdenes de Magnitud de datos\n",
    "\n",
    "* $2^0 \\rightarrow bit$\n",
    "* $2^3 \\rightarrow byte$\n",
    "* $2^{10} \\rightarrow Kilo$\n",
    "* $2^{20} \\rightarrow Mega$\n",
    "* $2^{30} \\rightarrow Giga$\n",
    "* $2^{40} \\rightarrow Tera$\n",
    "\n",
    "Ejercicio, ¿qué valores decimales corresponden los órdenes de magnitud antes indicados? Escribe un programa que devuelva los valores de las potencias de 2 antes indicadas\n",
    "\n"
   ]
  },
  {
   "cell_type": "code",
   "execution_count": 3,
   "id": "f6240d06-da8b-4edb-81f0-2db58468a057",
   "metadata": {},
   "outputs": [],
   "source": [
    "def orden_magnitud1(magnitud, valor=1):\n",
    "    if magnitud == \"bit\":\n",
    "        return 2**0*valor\n",
    "    elif magnitud ==\"byte\":\n",
    "        return 2**3*valor\n",
    "    else:\n",
    "        return 0\n",
    "\n",
    "def orden_magnitud2(potencias=[0,3,10,20,30,40], nombres=['bit', 'byte', 'Kilo', 'Mega', 'Giga', 'Tera']):\n",
    "    for i, potencia in enumerate(potencias):\n",
    "        print(f\"{nombres[i]} -> {2**potencia}\")\n"
   ]
  },
  {
   "cell_type": "code",
   "execution_count": 4,
   "id": "e86c3b41",
   "metadata": {},
   "outputs": [
    {
     "data": {
      "text/plain": [
       "8"
      ]
     },
     "execution_count": 4,
     "metadata": {},
     "output_type": "execute_result"
    }
   ],
   "source": [
    "orden_magnitud1(\"byte\")"
   ]
  },
  {
   "cell_type": "code",
   "execution_count": 5,
   "id": "0fb2f257",
   "metadata": {},
   "outputs": [
    {
     "name": "stdout",
     "output_type": "stream",
     "text": [
      "bit -> 1\n",
      "byte -> 8\n",
      "Kilo -> 1024\n",
      "Mega -> 1048576\n",
      "Giga -> 1073741824\n",
      "Tera -> 1099511627776\n"
     ]
    }
   ],
   "source": [
    "orden_magnitud2()"
   ]
  },
  {
   "cell_type": "markdown",
   "id": "71ff65c7",
   "metadata": {},
   "source": [
    "## Taller\n",
    "\n",
    "1. Construir una función en python que permita convertir un número en una base $r$ a su equivalente decimal\n",
    "2. Construir una función en python que permita obtener un número decimal a binario. Divida el problema en dos partes 1. parte entera y 2. parte fraccionaria.\n",
    "3. Generalice el programa anterior para convertir de decimal a un sistema con base $r$"
   ]
  },
  {
   "cell_type": "code",
   "execution_count": 11,
   "id": "5883acaa",
   "metadata": {},
   "outputs": [
    {
     "name": "stdout",
     "output_type": "stream",
     "text": [
      "734 en base 8 equivale a 476 en base 10\n"
     ]
    }
   ],
   "source": [
    "## Convertir un numero de una base r a su equivalente decimal\n",
    "def numero_int_2_dec(numero:str,base:int):\n",
    "    # parte entera\n",
    "    # inicializo un valor en 0\n",
    "    resp = 0\n",
    "    for posicion, digito in enumerate(numero):\n",
    "        potencia = len(numero)-1-posicion\n",
    "        resp = resp+int(digito)*base**potencia\n",
    "        # print(posicion, potencia, digito, resp)\n",
    "    print(f\"{numero} en base {base} equivale a {resp} en base 10\")\n",
    "\n",
    "numero_int_2_dec(numero='734', base=8)\n"
   ]
  },
  {
   "cell_type": "code",
   "execution_count": 15,
   "id": "b528fc80",
   "metadata": {},
   "outputs": [
    {
     "name": "stdout",
     "output_type": "stream",
     "text": [
      "73445\n",
      "0 2 7 448\n",
      "1 1 3 472\n",
      "2 0 4 476\n",
      "3 -1 4 476.5\n",
      "4 -2 5 476.578125\n",
      "734.45 en base 8 equivale a 476.578125 en base 10\n"
     ]
    }
   ],
   "source": [
    "## Convertir un numero con decimales de una base r a su equivalente decimal\n",
    "def numero_2_dec(numero:str,base:int):\n",
    "    # parte hago una nueva cadena\n",
    "    entero = numero.split('.')[0]\n",
    "    fraccion = numero.split('.')[1]\n",
    "    numero_tmp = entero + fraccion\n",
    "    print(numero_tmp)\n",
    "    # inicializo un valor en 0\n",
    "    resp = 0\n",
    "    for posicion, digito in enumerate(numero_tmp):\n",
    "        potencia = len(entero)-1-posicion\n",
    "        resp = resp+int(digito)*base**potencia\n",
    "        # print(posicion, potencia, digito, resp)\n",
    "    print(f\"{numero} en base {base} equivale a {resp} en base 10\")\n",
    "\n",
    "numero_2_dec(numero='734.45', base=8)"
   ]
  },
  {
   "cell_type": "code",
   "execution_count": 28,
   "id": "ad76cb49",
   "metadata": {},
   "outputs": [
    {
     "name": "stdout",
     "output_type": "stream",
     "text": [
      "1011011110\n"
     ]
    }
   ],
   "source": [
    "# decimal a binario parte entera\n",
    "def decimal2bin_entera(numero:int):\n",
    "    lista = []\n",
    "    cociente = numero\n",
    "    while(cociente>0):\n",
    "        cociente, residuo = cociente//2, cociente%2\n",
    "        lista.append(residuo)\n",
    "        # print(cociente, residuo)\n",
    "    resp = ''\n",
    "    for digito in lista[::-1]:\n",
    "        resp+=str(digito)\n",
    "    print(resp)\n",
    "\n",
    "\n",
    "decimal2bin_entera(734)"
   ]
  }
 ],
 "metadata": {
  "kernelspec": {
   "display_name": "Python 3 (ipykernel)",
   "language": "python",
   "name": "python3"
  },
  "language_info": {
   "codemirror_mode": {
    "name": "ipython",
    "version": 3
   },
   "file_extension": ".py",
   "mimetype": "text/x-python",
   "name": "python",
   "nbconvert_exporter": "python",
   "pygments_lexer": "ipython3",
   "version": "3.9.19"
  }
 },
 "nbformat": 4,
 "nbformat_minor": 5
}
