{
 "cells": [
  {
   "cell_type": "code",
   "execution_count": 11,
   "id": "7c3be472",
   "metadata": {},
   "outputs": [
    {
     "data": {
      "text/plain": [
       "'/mnt/d/entea/Lectures/iccd332ArqComp-2024-B'"
      ]
     },
     "execution_count": 11,
     "metadata": {},
     "output_type": "execute_result"
    }
   ],
   "source": [
    "import pandas as pd\n",
    "import random\n",
    "import os\n",
    "from pprint import pprint\n",
    "os.getcwd()"
   ]
  },
  {
   "cell_type": "code",
   "execution_count": 16,
   "id": "bf0afd28",
   "metadata": {},
   "outputs": [
    {
     "name": "stdout",
     "output_type": "stream",
     "text": [
      "/mnt/d/OneDrive - Escuela Politécnica Nacional/General - ICCD332-ArquitecturaComputadores\n",
      "[{'Estudiante': 'MUÑOZ CARVAJAL JOHAN SEBASTIAN', 'Grupo': 'Grupo 1'},\n",
      " {'Estudiante': 'ROMO NAVAS MARIA PAULA', 'Grupo': 'Grupo 2'},\n",
      " {'Estudiante': 'BETANCOURT VELEZ ENRIQUE MATEO', 'Grupo': 'Grupo 3'},\n",
      " {'Estudiante': 'CARLOSAMA RECALDE ELVIS JHOEL', 'Grupo': 'Grupo 4'},\n",
      " {'Estudiante': 'SALAZAR ZURITA LUZ SAMARA', 'Grupo': 'Grupo 5'},\n",
      " {'Estudiante': 'CARTAGENA TOAQUIZA JORDY ARIEL', 'Grupo': 'Grupo 6'},\n",
      " {'Estudiante': 'CHAMPUTIZ RAMOS JOEL ALEJANDRO', 'Grupo': 'Grupo 7'},\n",
      " {'Estudiante': 'GRANDA BETANCOURT PAULA CAMILA', 'Grupo': 'Grupo 8'},\n",
      " {'Estudiante': 'TRUJILLO SALAZAR ADRIAN MAURICIO', 'Grupo': 'Grupo 9'},\n",
      " {'Estudiante': 'SALAZAR CEDEÑO AMBAR SIMONE', 'Grupo': 'Grupo 10'},\n",
      " {'Estudiante': 'CHANGO PARRA AZAELA SKARLETTE', 'Grupo': 'Grupo 1'},\n",
      " {'Estudiante': 'QUINATOA CEDEÑO JUAN IGNACIO', 'Grupo': 'Grupo 2'},\n",
      " {'Estudiante': 'MERCHAN PUMA NAYELI SOLANGE', 'Grupo': 'Grupo 3'},\n",
      " {'Estudiante': 'REVELO OSPINA JADE NAOMY', 'Grupo': 'Grupo 4'},\n",
      " {'Estudiante': 'ALOMOTO SANGUÑA ISMAEL PATRICIO', 'Grupo': 'Grupo 5'},\n",
      " {'Estudiante': 'BOMBON TOCA NAOMY KARELY', 'Grupo': 'Grupo 6'},\n",
      " {'Estudiante': 'PAEZ CORELLA ERICK RODRIGO', 'Grupo': 'Grupo 7'},\n",
      " {'Estudiante': 'JACOME GARCIA JUAN SEBASTIAN', 'Grupo': 'Grupo 8'},\n",
      " {'Estudiante': 'LOPEZ PATIÑO ETHAN JERIEL', 'Grupo': 'Grupo 9'},\n",
      " {'Estudiante': 'DURAN REYNA JOHN EDUARDO', 'Grupo': 'Grupo 10'},\n",
      " {'Estudiante': 'TIUPUL IRUA JHON JAIRO', 'Grupo': 'Grupo 1'},\n",
      " {'Estudiante': 'PAUCAR MORENO VANESSA ALEJANDRA', 'Grupo': 'Grupo 2'},\n",
      " {'Estudiante': 'MARTINEZ GUERRERO DOMENICA MICAELA', 'Grupo': 'Grupo 3'},\n",
      " {'Estudiante': 'CEVALLOS ANDRADE CARLOS ISMAEL', 'Grupo': 'Grupo 4'},\n",
      " {'Estudiante': 'CARDENAS VALAREZO MATEO JOSUE', 'Grupo': 'Grupo 5'},\n",
      " {'Estudiante': 'ARIAS FAICAN CAMILA VALENTINA', 'Grupo': 'Grupo 6'},\n",
      " {'Estudiante': 'ROJAS BALSECA CARLOS STEVEN', 'Grupo': 'Grupo 7'},\n",
      " {'Estudiante': 'PAREDES CABRERA DAVID MATEO', 'Grupo': 'Grupo 8'},\n",
      " {'Estudiante': 'SARRIA MORALES ISAAC JOSUE', 'Grupo': 'Grupo 9'},\n",
      " {'Estudiante': 'AMANTA ANDRANGO DAVID ESTEBAN', 'Grupo': 'Grupo 10'},\n",
      " {'Estudiante': 'LEON CAMACHO RICARDO LEANDRO', 'Grupo': 'Grupo 1'},\n",
      " {'Estudiante': 'VALENCIA MONTEROS MAURO ALEXANDER', 'Grupo': 'Grupo 2'},\n",
      " {'Estudiante': 'CRESPO RUIZ SAMUEL IGNACIO', 'Grupo': 'Grupo 3'},\n",
      " {'Estudiante': 'ROSERO ACERO ANDRE ALEXIS', 'Grupo': 'Grupo 4'},\n",
      " {'Estudiante': 'NAVARRETE ANASI DENNIS ALEJANDRO', 'Grupo': 'Grupo 5'},\n",
      " {'Estudiante': 'CORRAL DAVALOS ANA CAROLINA', 'Grupo': 'Grupo 6'},\n",
      " {'Estudiante': 'VEINTIMILLA VELASQUEZ BRENDA JOHANA', 'Grupo': 'Grupo 7'}]\n"
     ]
    }
   ],
   "source": [
    "# read excel\n",
    "path_2_excel_file = \"/mnt/d/OneDrive - Escuela Politécnica Nacional/General - ICCD332-ArquitecturaComputadores/ListaEstudiantes2025B.xls.xlsx\"\n",
    "parent_dir = os.path.dirname(path_2_excel_file)\n",
    "print(parent_dir)\n",
    "sheet_name = \"ListaEstudiantes\"\n",
    "\n",
    "num_grupos = 10\n",
    "\n",
    "df = pd.read_excel(path_2_excel_file, sheet_name=sheet_name)\n",
    "estudiantes = df[\"Estudiante\"].tolist()\n",
    "random.shuffle(estudiantes)\n",
    "\n",
    "# Asignar grupos\n",
    "asignaciones = []\n",
    "for i, nombre in enumerate(estudiantes):\n",
    "    grupo = f\"Grupo {i % num_grupos + 1}\"\n",
    "    asignaciones.append({\"Estudiante\": nombre, \"Grupo\": grupo})\n",
    "pprint(asignaciones)\n",
    "# Convertir a DataFrame\n",
    "df_out = pd.DataFrame(asignaciones)\n",
    "\n",
    "# Guardar en CSV y Excel\n",
    "output_file_name = \"binaryAritmeticPractice.xlsx\"\n",
    "output_path = os.path.join(parent_dir, output_file_name)\n",
    "# df_out.to_csv(\"grupos.csv\", index=False)\n",
    "df_out.to_excel(output_path, index=False)\n"
   ]
  },
  {
   "cell_type": "code",
   "execution_count": 17,
   "id": "baa11ee3",
   "metadata": {},
   "outputs": [
    {
     "data": {
      "text/html": [
       "<div>\n",
       "<style scoped>\n",
       "    .dataframe tbody tr th:only-of-type {\n",
       "        vertical-align: middle;\n",
       "    }\n",
       "\n",
       "    .dataframe tbody tr th {\n",
       "        vertical-align: top;\n",
       "    }\n",
       "\n",
       "    .dataframe thead th {\n",
       "        text-align: right;\n",
       "    }\n",
       "</style>\n",
       "<table border=\"1\" class=\"dataframe\">\n",
       "  <thead>\n",
       "    <tr style=\"text-align: right;\">\n",
       "      <th></th>\n",
       "      <th>Estudiante</th>\n",
       "      <th>Grupo</th>\n",
       "    </tr>\n",
       "  </thead>\n",
       "  <tbody>\n",
       "    <tr>\n",
       "      <th>0</th>\n",
       "      <td>MUÑOZ CARVAJAL JOHAN SEBASTIAN</td>\n",
       "      <td>Grupo 1</td>\n",
       "    </tr>\n",
       "    <tr>\n",
       "      <th>1</th>\n",
       "      <td>ROMO NAVAS MARIA PAULA</td>\n",
       "      <td>Grupo 2</td>\n",
       "    </tr>\n",
       "    <tr>\n",
       "      <th>2</th>\n",
       "      <td>BETANCOURT VELEZ ENRIQUE MATEO</td>\n",
       "      <td>Grupo 3</td>\n",
       "    </tr>\n",
       "    <tr>\n",
       "      <th>3</th>\n",
       "      <td>CARLOSAMA RECALDE ELVIS JHOEL</td>\n",
       "      <td>Grupo 4</td>\n",
       "    </tr>\n",
       "    <tr>\n",
       "      <th>4</th>\n",
       "      <td>SALAZAR ZURITA LUZ SAMARA</td>\n",
       "      <td>Grupo 5</td>\n",
       "    </tr>\n",
       "  </tbody>\n",
       "</table>\n",
       "</div>"
      ],
      "text/plain": [
       "                       Estudiante    Grupo\n",
       "0  MUÑOZ CARVAJAL JOHAN SEBASTIAN  Grupo 1\n",
       "1          ROMO NAVAS MARIA PAULA  Grupo 2\n",
       "2  BETANCOURT VELEZ ENRIQUE MATEO  Grupo 3\n",
       "3   CARLOSAMA RECALDE ELVIS JHOEL  Grupo 4\n",
       "4       SALAZAR ZURITA LUZ SAMARA  Grupo 5"
      ]
     },
     "execution_count": 17,
     "metadata": {},
     "output_type": "execute_result"
    }
   ],
   "source": [
    "df_out.head()"
   ]
  }
 ],
 "metadata": {
  "kernelspec": {
   "display_name": "tfmlenv",
   "language": "python",
   "name": "python3"
  },
  "language_info": {
   "codemirror_mode": {
    "name": "ipython",
    "version": 3
   },
   "file_extension": ".py",
   "mimetype": "text/x-python",
   "name": "python",
   "nbconvert_exporter": "python",
   "pygments_lexer": "ipython3",
   "version": "3.9.23"
  }
 },
 "nbformat": 4,
 "nbformat_minor": 5
}
